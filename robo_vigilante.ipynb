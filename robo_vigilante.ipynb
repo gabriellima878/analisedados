{
  "cells": [
    {
      "cell_type": "code",
      "execution_count": 2,
      "metadata": {
        "colab": {
          "base_uri": "https://localhost:8080/"
        },
        "collapsed": true,
        "id": "tb7AZFXGHQKC",
        "outputId": "0d142389-8647-4d28-804d-0efe4dac824c"
      },
      "outputs": [
        {
          "name": "stdout",
          "output_type": "stream",
          "text": [
            "Collecting mplcyberpunk\n",
            "  Using cached mplcyberpunk-0.7.5-py3-none-any.whl.metadata (3.4 kB)\n",
            "Collecting matplotlib (from mplcyberpunk)\n",
            "  Using cached matplotlib-3.10.0-cp312-cp312-win_amd64.whl.metadata (11 kB)\n",
            "Requirement already satisfied: numpy>1.24.4 in c:\\python312\\lib\\site-packages (from mplcyberpunk) (2.2.1)\n",
            "Collecting contourpy>=1.0.1 (from matplotlib->mplcyberpunk)\n",
            "  Using cached contourpy-1.3.1-cp312-cp312-win_amd64.whl.metadata (5.4 kB)\n",
            "Collecting cycler>=0.10 (from matplotlib->mplcyberpunk)\n",
            "  Using cached cycler-0.12.1-py3-none-any.whl.metadata (3.8 kB)\n",
            "Requirement already satisfied: fonttools>=4.22.0 in c:\\python312\\lib\\site-packages (from matplotlib->mplcyberpunk) (4.55.3)\n",
            "Requirement already satisfied: kiwisolver>=1.3.1 in c:\\python312\\lib\\site-packages (from matplotlib->mplcyberpunk) (1.4.8)\n",
            "Requirement already satisfied: packaging>=20.0 in c:\\users\\gabriel lima\\appdata\\roaming\\python\\python312\\site-packages (from matplotlib->mplcyberpunk) (24.0)\n",
            "Requirement already satisfied: pillow>=8 in c:\\python312\\lib\\site-packages (from matplotlib->mplcyberpunk) (11.1.0)\n",
            "Requirement already satisfied: pyparsing>=2.3.1 in c:\\python312\\lib\\site-packages (from matplotlib->mplcyberpunk) (3.2.1)\n",
            "Requirement already satisfied: python-dateutil>=2.7 in c:\\users\\gabriel lima\\appdata\\roaming\\python\\python312\\site-packages (from matplotlib->mplcyberpunk) (2.9.0.post0)\n",
            "Requirement already satisfied: six>=1.5 in c:\\users\\gabriel lima\\appdata\\roaming\\python\\python312\\site-packages (from python-dateutil>=2.7->matplotlib->mplcyberpunk) (1.16.0)\n",
            "Using cached mplcyberpunk-0.7.5-py3-none-any.whl (6.5 kB)\n",
            "Using cached matplotlib-3.10.0-cp312-cp312-win_amd64.whl (8.0 MB)\n",
            "Using cached contourpy-1.3.1-cp312-cp312-win_amd64.whl (220 kB)\n",
            "Using cached cycler-0.12.1-py3-none-any.whl (8.3 kB)\n",
            "Installing collected packages: cycler, contourpy, matplotlib, mplcyberpunk\n",
            "Successfully installed contourpy-1.3.1 cycler-0.12.1 matplotlib-3.10.0 mplcyberpunk-0.7.5\n"
          ]
        }
      ],
      "source": [
        "!pip install mplcyberpunk"
      ]
    },
    {
      "cell_type": "code",
      "execution_count": 3,
      "metadata": {
        "colab": {
          "base_uri": "https://localhost:8080/"
        },
        "collapsed": true,
        "id": "pY2ADwlwHWk8",
        "outputId": "df7ef38b-8e77-4277-ee88-34393ad110d3"
      },
      "outputs": [
        {
          "name": "stdout",
          "output_type": "stream",
          "text": [
            "Collecting yfinance\n",
            "  Using cached yfinance-0.2.52-py2.py3-none-any.whl.metadata (5.8 kB)\n",
            "Requirement already satisfied: pandas>=1.3.0 in c:\\python312\\lib\\site-packages (from yfinance) (2.2.3)\n",
            "Requirement already satisfied: numpy>=1.16.5 in c:\\python312\\lib\\site-packages (from yfinance) (2.2.1)\n",
            "Requirement already satisfied: requests>=2.31 in c:\\python312\\lib\\site-packages (from yfinance) (2.32.3)\n",
            "Collecting multitasking>=0.0.7 (from yfinance)\n",
            "  Using cached multitasking-0.0.11-py3-none-any.whl.metadata (5.5 kB)\n",
            "Collecting lxml>=4.9.1 (from yfinance)\n",
            "  Using cached lxml-5.3.0-cp312-cp312-win_amd64.whl.metadata (3.9 kB)\n",
            "Requirement already satisfied: platformdirs>=2.0.0 in c:\\users\\gabriel lima\\appdata\\roaming\\python\\python312\\site-packages (from yfinance) (4.2.2)\n",
            "Requirement already satisfied: pytz>=2022.5 in c:\\python312\\lib\\site-packages (from yfinance) (2024.2)\n",
            "Collecting frozendict>=2.3.4 (from yfinance)\n",
            "  Using cached frozendict-2.4.6-py312-none-any.whl.metadata (23 kB)\n",
            "Collecting peewee>=3.16.2 (from yfinance)\n",
            "  Using cached peewee-3.17.8-py3-none-any.whl\n",
            "Requirement already satisfied: beautifulsoup4>=4.11.1 in c:\\python312\\lib\\site-packages (from yfinance) (4.12.3)\n",
            "Collecting html5lib>=1.1 (from yfinance)\n",
            "  Using cached html5lib-1.1-py2.py3-none-any.whl.metadata (16 kB)\n",
            "Requirement already satisfied: soupsieve>1.2 in c:\\python312\\lib\\site-packages (from beautifulsoup4>=4.11.1->yfinance) (2.5)\n",
            "Requirement already satisfied: six>=1.9 in c:\\users\\gabriel lima\\appdata\\roaming\\python\\python312\\site-packages (from html5lib>=1.1->yfinance) (1.16.0)\n",
            "Collecting webencodings (from html5lib>=1.1->yfinance)\n",
            "  Using cached webencodings-0.5.1-py2.py3-none-any.whl.metadata (2.1 kB)\n",
            "Requirement already satisfied: python-dateutil>=2.8.2 in c:\\users\\gabriel lima\\appdata\\roaming\\python\\python312\\site-packages (from pandas>=1.3.0->yfinance) (2.9.0.post0)\n",
            "Requirement already satisfied: tzdata>=2022.7 in c:\\python312\\lib\\site-packages (from pandas>=1.3.0->yfinance) (2024.1)\n",
            "Requirement already satisfied: charset-normalizer<4,>=2 in c:\\python312\\lib\\site-packages (from requests>=2.31->yfinance) (3.3.2)\n",
            "Requirement already satisfied: idna<4,>=2.5 in c:\\python312\\lib\\site-packages (from requests>=2.31->yfinance) (3.7)\n",
            "Requirement already satisfied: urllib3<3,>=1.21.1 in c:\\python312\\lib\\site-packages (from requests>=2.31->yfinance) (2.2.2)\n",
            "Requirement already satisfied: certifi>=2017.4.17 in c:\\python312\\lib\\site-packages (from requests>=2.31->yfinance) (2024.6.2)\n",
            "Using cached yfinance-0.2.52-py2.py3-none-any.whl (108 kB)\n",
            "Using cached frozendict-2.4.6-py312-none-any.whl (16 kB)\n",
            "Using cached html5lib-1.1-py2.py3-none-any.whl (112 kB)\n",
            "Using cached lxml-5.3.0-cp312-cp312-win_amd64.whl (3.8 MB)\n",
            "Using cached multitasking-0.0.11-py3-none-any.whl (8.5 kB)\n",
            "Using cached webencodings-0.5.1-py2.py3-none-any.whl (11 kB)\n",
            "Installing collected packages: webencodings, peewee, multitasking, lxml, html5lib, frozendict, yfinance\n"
          ]
        },
        {
          "name": "stderr",
          "output_type": "stream",
          "text": [
            "ERROR: Could not install packages due to an OSError: [Errno 13] Permission denied: 'C:\\\\Python312\\\\Scripts\\\\pwiz.py'\n",
            "Consider using the `--user` option or check the permissions.\n",
            "\n"
          ]
        }
      ],
      "source": [
        "!pip install yfinance"
      ]
    },
    {
      "cell_type": "code",
      "execution_count": 4,
      "metadata": {
        "id": "f91_833oHYrU"
      },
      "outputs": [],
      "source": [
        "import yfinance as yf\n",
        "import pandas as pd\n",
        "import matplotlib.pyplot as plt\n",
        "import mplcyberpunk\n",
        "import numpy as np"
      ]
    },
    {
      "cell_type": "markdown",
      "metadata": {
        "id": "hLy-9_v8HzJ8"
      },
      "source": [
        "# 2 - Pegar as cotações históricas"
      ]
    },
    {
      "cell_type": "code",
      "execution_count": 5,
      "metadata": {
        "id": "XyPH0pygHrST"
      },
      "outputs": [],
      "source": [
        "tickers = [\"^BVSP\", \"^GSPC\", \"BRL=X\", \"BTC-USD\"]"
      ]
    },
    {
      "cell_type": "code",
      "execution_count": 6,
      "metadata": {
        "colab": {
          "base_uri": "https://localhost:8080/",
          "height": 472
        },
        "id": "sntnm2XGIC0e",
        "outputId": "820d6c29-9057-4633-e85d-43610bcb33dc"
      },
      "outputs": [
        {
          "name": "stderr",
          "output_type": "stream",
          "text": [
            "[*********************100%***********************]  4 of 4 completed\n"
          ]
        },
        {
          "data": {
            "text/html": [
              "<div>\n",
              "<style scoped>\n",
              "    .dataframe tbody tr th:only-of-type {\n",
              "        vertical-align: middle;\n",
              "    }\n",
              "\n",
              "    .dataframe tbody tr th {\n",
              "        vertical-align: top;\n",
              "    }\n",
              "\n",
              "    .dataframe thead th {\n",
              "        text-align: right;\n",
              "    }\n",
              "</style>\n",
              "<table border=\"1\" class=\"dataframe\">\n",
              "  <thead>\n",
              "    <tr style=\"text-align: right;\">\n",
              "      <th>Ticker</th>\n",
              "      <th>BRL=X</th>\n",
              "      <th>BTC-USD</th>\n",
              "      <th>^BVSP</th>\n",
              "      <th>^GSPC</th>\n",
              "    </tr>\n",
              "    <tr>\n",
              "      <th>Date</th>\n",
              "      <th></th>\n",
              "      <th></th>\n",
              "      <th></th>\n",
              "      <th></th>\n",
              "    </tr>\n",
              "  </thead>\n",
              "  <tbody>\n",
              "    <tr>\n",
              "      <th>2024-07-31</th>\n",
              "      <td>5.6111</td>\n",
              "      <td>64619.250000</td>\n",
              "      <td>127652.000000</td>\n",
              "      <td>5522.299805</td>\n",
              "    </tr>\n",
              "    <tr>\n",
              "      <th>2024-08-01</th>\n",
              "      <td>5.6566</td>\n",
              "      <td>65357.500000</td>\n",
              "      <td>127395.000000</td>\n",
              "      <td>5446.680176</td>\n",
              "    </tr>\n",
              "    <tr>\n",
              "      <th>2024-08-02</th>\n",
              "      <td>5.7506</td>\n",
              "      <td>61415.066406</td>\n",
              "      <td>125854.000000</td>\n",
              "      <td>5346.560059</td>\n",
              "    </tr>\n",
              "    <tr>\n",
              "      <th>2024-08-03</th>\n",
              "      <td>NaN</td>\n",
              "      <td>60680.093750</td>\n",
              "      <td>NaN</td>\n",
              "      <td>NaN</td>\n",
              "    </tr>\n",
              "    <tr>\n",
              "      <th>2024-08-04</th>\n",
              "      <td>NaN</td>\n",
              "      <td>58116.976562</td>\n",
              "      <td>NaN</td>\n",
              "      <td>NaN</td>\n",
              "    </tr>\n",
              "    <tr>\n",
              "      <th>...</th>\n",
              "      <td>...</td>\n",
              "      <td>...</td>\n",
              "      <td>...</td>\n",
              "      <td>...</td>\n",
              "    </tr>\n",
              "    <tr>\n",
              "      <th>2025-01-27</th>\n",
              "      <td>5.9091</td>\n",
              "      <td>102087.687500</td>\n",
              "      <td>124862.000000</td>\n",
              "      <td>6012.279785</td>\n",
              "    </tr>\n",
              "    <tr>\n",
              "      <th>2025-01-28</th>\n",
              "      <td>5.8926</td>\n",
              "      <td>101332.476562</td>\n",
              "      <td>124056.000000</td>\n",
              "      <td>6067.700195</td>\n",
              "    </tr>\n",
              "    <tr>\n",
              "      <th>2025-01-29</th>\n",
              "      <td>5.8561</td>\n",
              "      <td>103703.210938</td>\n",
              "      <td>123432.000000</td>\n",
              "      <td>6039.310059</td>\n",
              "    </tr>\n",
              "    <tr>\n",
              "      <th>2025-01-30</th>\n",
              "      <td>5.8567</td>\n",
              "      <td>104735.304688</td>\n",
              "      <td>126913.000000</td>\n",
              "      <td>6071.169922</td>\n",
              "    </tr>\n",
              "    <tr>\n",
              "      <th>2025-01-31</th>\n",
              "      <td>5.8264</td>\n",
              "      <td>104852.171875</td>\n",
              "      <td>127206.609375</td>\n",
              "      <td>6115.299805</td>\n",
              "    </tr>\n",
              "  </tbody>\n",
              "</table>\n",
              "<p>185 rows × 4 columns</p>\n",
              "</div>"
            ],
            "text/plain": [
              "Ticker       BRL=X        BTC-USD          ^BVSP        ^GSPC\n",
              "Date                                                         \n",
              "2024-07-31  5.6111   64619.250000  127652.000000  5522.299805\n",
              "2024-08-01  5.6566   65357.500000  127395.000000  5446.680176\n",
              "2024-08-02  5.7506   61415.066406  125854.000000  5346.560059\n",
              "2024-08-03     NaN   60680.093750            NaN          NaN\n",
              "2024-08-04     NaN   58116.976562            NaN          NaN\n",
              "...            ...            ...            ...          ...\n",
              "2025-01-27  5.9091  102087.687500  124862.000000  6012.279785\n",
              "2025-01-28  5.8926  101332.476562  124056.000000  6067.700195\n",
              "2025-01-29  5.8561  103703.210938  123432.000000  6039.310059\n",
              "2025-01-30  5.8567  104735.304688  126913.000000  6071.169922\n",
              "2025-01-31  5.8264  104852.171875  127206.609375  6115.299805\n",
              "\n",
              "[185 rows x 4 columns]"
            ]
          },
          "execution_count": 6,
          "metadata": {},
          "output_type": "execute_result"
        }
      ],
      "source": [
        "dados_mercado = yf.download(tickers, period = \"6mo\", auto_adjust = False)\n",
        "dados_mercado = dados_mercado[\"Adj Close\"]\n",
        "dados_mercado"
      ]
    },
    {
      "cell_type": "code",
      "execution_count": 7,
      "metadata": {
        "id": "be4Ubwu6Vupg"
      },
      "outputs": [],
      "source": [
        "dados_mercado.dropna(inplace=True)"
      ]
    },
    {
      "cell_type": "code",
      "execution_count": 8,
      "metadata": {
        "colab": {
          "base_uri": "https://localhost:8080/",
          "height": 455
        },
        "id": "KFwLw-SbNEUw",
        "outputId": "c0ed89f4-c3e8-44be-fa47-6ed918951ff5"
      },
      "outputs": [
        {
          "data": {
            "text/html": [
              "<div>\n",
              "<style scoped>\n",
              "    .dataframe tbody tr th:only-of-type {\n",
              "        vertical-align: middle;\n",
              "    }\n",
              "\n",
              "    .dataframe tbody tr th {\n",
              "        vertical-align: top;\n",
              "    }\n",
              "\n",
              "    .dataframe thead th {\n",
              "        text-align: right;\n",
              "    }\n",
              "</style>\n",
              "<table border=\"1\" class=\"dataframe\">\n",
              "  <thead>\n",
              "    <tr style=\"text-align: right;\">\n",
              "      <th></th>\n",
              "      <th>DOLAR</th>\n",
              "      <th>BTC</th>\n",
              "      <th>IBOV</th>\n",
              "      <th>S&amp;P500</th>\n",
              "    </tr>\n",
              "    <tr>\n",
              "      <th>Date</th>\n",
              "      <th></th>\n",
              "      <th></th>\n",
              "      <th></th>\n",
              "      <th></th>\n",
              "    </tr>\n",
              "  </thead>\n",
              "  <tbody>\n",
              "    <tr>\n",
              "      <th>2024-07-31</th>\n",
              "      <td>5.6111</td>\n",
              "      <td>64619.250000</td>\n",
              "      <td>127652.000000</td>\n",
              "      <td>5522.299805</td>\n",
              "    </tr>\n",
              "    <tr>\n",
              "      <th>2024-08-01</th>\n",
              "      <td>5.6566</td>\n",
              "      <td>65357.500000</td>\n",
              "      <td>127395.000000</td>\n",
              "      <td>5446.680176</td>\n",
              "    </tr>\n",
              "    <tr>\n",
              "      <th>2024-08-02</th>\n",
              "      <td>5.7506</td>\n",
              "      <td>61415.066406</td>\n",
              "      <td>125854.000000</td>\n",
              "      <td>5346.560059</td>\n",
              "    </tr>\n",
              "    <tr>\n",
              "      <th>2024-08-05</th>\n",
              "      <td>5.7267</td>\n",
              "      <td>53991.457031</td>\n",
              "      <td>125270.000000</td>\n",
              "      <td>5186.330078</td>\n",
              "    </tr>\n",
              "    <tr>\n",
              "      <th>2024-08-06</th>\n",
              "      <td>5.7209</td>\n",
              "      <td>56034.316406</td>\n",
              "      <td>126267.000000</td>\n",
              "      <td>5240.029785</td>\n",
              "    </tr>\n",
              "    <tr>\n",
              "      <th>...</th>\n",
              "      <td>...</td>\n",
              "      <td>...</td>\n",
              "      <td>...</td>\n",
              "      <td>...</td>\n",
              "    </tr>\n",
              "    <tr>\n",
              "      <th>2025-01-27</th>\n",
              "      <td>5.9091</td>\n",
              "      <td>102087.687500</td>\n",
              "      <td>124862.000000</td>\n",
              "      <td>6012.279785</td>\n",
              "    </tr>\n",
              "    <tr>\n",
              "      <th>2025-01-28</th>\n",
              "      <td>5.8926</td>\n",
              "      <td>101332.476562</td>\n",
              "      <td>124056.000000</td>\n",
              "      <td>6067.700195</td>\n",
              "    </tr>\n",
              "    <tr>\n",
              "      <th>2025-01-29</th>\n",
              "      <td>5.8561</td>\n",
              "      <td>103703.210938</td>\n",
              "      <td>123432.000000</td>\n",
              "      <td>6039.310059</td>\n",
              "    </tr>\n",
              "    <tr>\n",
              "      <th>2025-01-30</th>\n",
              "      <td>5.8567</td>\n",
              "      <td>104735.304688</td>\n",
              "      <td>126913.000000</td>\n",
              "      <td>6071.169922</td>\n",
              "    </tr>\n",
              "    <tr>\n",
              "      <th>2025-01-31</th>\n",
              "      <td>5.8264</td>\n",
              "      <td>104852.171875</td>\n",
              "      <td>127206.609375</td>\n",
              "      <td>6115.299805</td>\n",
              "    </tr>\n",
              "  </tbody>\n",
              "</table>\n",
              "<p>123 rows × 4 columns</p>\n",
              "</div>"
            ],
            "text/plain": [
              "             DOLAR            BTC           IBOV       S&P500\n",
              "Date                                                         \n",
              "2024-07-31  5.6111   64619.250000  127652.000000  5522.299805\n",
              "2024-08-01  5.6566   65357.500000  127395.000000  5446.680176\n",
              "2024-08-02  5.7506   61415.066406  125854.000000  5346.560059\n",
              "2024-08-05  5.7267   53991.457031  125270.000000  5186.330078\n",
              "2024-08-06  5.7209   56034.316406  126267.000000  5240.029785\n",
              "...            ...            ...            ...          ...\n",
              "2025-01-27  5.9091  102087.687500  124862.000000  6012.279785\n",
              "2025-01-28  5.8926  101332.476562  124056.000000  6067.700195\n",
              "2025-01-29  5.8561  103703.210938  123432.000000  6039.310059\n",
              "2025-01-30  5.8567  104735.304688  126913.000000  6071.169922\n",
              "2025-01-31  5.8264  104852.171875  127206.609375  6115.299805\n",
              "\n",
              "[123 rows x 4 columns]"
            ]
          },
          "execution_count": 8,
          "metadata": {},
          "output_type": "execute_result"
        }
      ],
      "source": [
        "dados_mercado.columns = [\"DOLAR\", \"BTC\", \"IBOV\", \"S&P500\"]\n",
        "dados_mercado"
      ]
    },
    {
      "cell_type": "markdown",
      "metadata": {
        "id": "J67aL3B2NsCU"
      },
      "source": [
        "# 4 - Criar graficos de performance"
      ]
    },
    {
      "cell_type": "code",
      "execution_count": 9,
      "metadata": {
        "id": "-yS-hFGcNnMi"
      },
      "outputs": [],
      "source": [
        "plt.style.use(\"cyberpunk\")"
      ]
    },
    {
      "cell_type": "code",
      "execution_count": 10,
      "metadata": {
        "colab": {
          "base_uri": "https://localhost:8080/",
          "height": 462
        },
        "id": "CTysplLvNwCz",
        "outputId": "eac5cd6e-cce4-43bf-b4d2-d20d1ee3cf73"
      },
      "outputs": [
        {
          "data": {
            "image/png": "[encoded data removed]",
            "text/plain": [
              "<Figure size 640x480 with 1 Axes>"
            ]
          },
          "metadata": {},
          "output_type": "display_data"
        },
        {
          "data": {
            "text/plain": [
              "<Figure size 640x480 with 0 Axes>"
            ]
          },
          "metadata": {},
          "output_type": "display_data"
        }
      ],
      "source": [
        "plt.plot(dados_mercado[\"IBOV\"])\n",
        "plt.title(\"IBOVESPA\")\n",
        "plt.show()\n",
        "plt.savefig(\"ibovespa.png\")"
      ]
    },
    {
      "cell_type": "code",
      "execution_count": 11,
      "metadata": {
        "colab": {
          "base_uri": "https://localhost:8080/",
          "height": 462
        },
        "id": "KNSNvJpiT3Pi",
        "outputId": "5c76a504-921f-409a-eecd-b74423b974d7"
      },
      "outputs": [
        {
          "data": {
            "image/png": "[encoded data removed]",
            "text/plain": [
              "<Figure size 640x480 with 1 Axes>"
            ]
          },
          "metadata": {},
          "output_type": "display_data"
        },
        {
          "data": {
            "text/plain": [
              "<Figure size 640x480 with 0 Axes>"
            ]
          },
          "metadata": {},
          "output_type": "display_data"
        }
      ],
      "source": [
        "plt.plot(dados_mercado[\"DOLAR\"])\n",
        "plt.title(\"DOLAR\")\n",
        "plt.show()\n",
        "plt.savefig(\"dolar.png\")"
      ]
    },
    {
      "cell_type": "code",
      "execution_count": 12,
      "metadata": {
        "colab": {
          "base_uri": "https://localhost:8080/",
          "height": 462
        },
        "id": "ql7zPiyUcaRC",
        "outputId": "c7ed04c6-c9c7-42c7-c2e8-4ebb251a8102"
      },
      "outputs": [
        {
          "data": {
            "image/png": "[encoded data removed]",
            "text/plain": [
              "<Figure size 640x480 with 1 Axes>"
            ]
          },
          "metadata": {},
          "output_type": "display_data"
        },
        {
          "data": {
            "text/plain": [
              "<Figure size 640x480 with 0 Axes>"
            ]
          },
          "metadata": {},
          "output_type": "display_data"
        }
      ],
      "source": [
        "plt.plot(dados_mercado[\"S&P500\"])\n",
        "plt.title(\"S&P500\")\n",
        "plt.show()\n",
        "plt.savefig(\"sp500.png\")"
      ]
    },
    {
      "cell_type": "code",
      "execution_count": 13,
      "metadata": {
        "colab": {
          "base_uri": "https://localhost:8080/",
          "height": 462
        },
        "id": "R4P7-bD0casw",
        "outputId": "0d5b8041-6c70-4bff-91c9-77901623ac90"
      },
      "outputs": [
        {
          "data": {
            "image/png": "[encoded data removed]",
            "text/plain": [
              "<Figure size 640x480 with 1 Axes>"
            ]
          },
          "metadata": {},
          "output_type": "display_data"
        },
        {
          "data": {
            "text/plain": [
              "<Figure size 640x480 with 0 Axes>"
            ]
          },
          "metadata": {},
          "output_type": "display_data"
        }
      ],
      "source": [
        "plt.plot(dados_mercado[\"BTC\"])\n",
        "plt.title(\"BTC\")\n",
        "plt.show()\n",
        "plt.savefig(\"btc.png\")"
      ]
    },
    {
      "cell_type": "code",
      "execution_count": 14,
      "metadata": {
        "colab": {
          "base_uri": "https://localhost:8080/",
          "height": 455
        },
        "id": "xTT4ITZOpMWK",
        "outputId": "ef3c3d04-c6a4-40da-c30f-01d34a336e41"
      },
      "outputs": [
        {
          "data": {
            "text/html": [
              "<div>\n",
              "<style scoped>\n",
              "    .dataframe tbody tr th:only-of-type {\n",
              "        vertical-align: middle;\n",
              "    }\n",
              "\n",
              "    .dataframe tbody tr th {\n",
              "        vertical-align: top;\n",
              "    }\n",
              "\n",
              "    .dataframe thead th {\n",
              "        text-align: right;\n",
              "    }\n",
              "</style>\n",
              "<table border=\"1\" class=\"dataframe\">\n",
              "  <thead>\n",
              "    <tr style=\"text-align: right;\">\n",
              "      <th></th>\n",
              "      <th>DOLAR</th>\n",
              "      <th>BTC</th>\n",
              "      <th>IBOV</th>\n",
              "      <th>S&amp;P500</th>\n",
              "    </tr>\n",
              "    <tr>\n",
              "      <th>Date</th>\n",
              "      <th></th>\n",
              "      <th></th>\n",
              "      <th></th>\n",
              "      <th></th>\n",
              "    </tr>\n",
              "  </thead>\n",
              "  <tbody>\n",
              "    <tr>\n",
              "      <th>2024-07-31</th>\n",
              "      <td>NaN</td>\n",
              "      <td>NaN</td>\n",
              "      <td>NaN</td>\n",
              "      <td>NaN</td>\n",
              "    </tr>\n",
              "    <tr>\n",
              "      <th>2024-08-01</th>\n",
              "      <td>0.008109</td>\n",
              "      <td>0.011425</td>\n",
              "      <td>-0.002013</td>\n",
              "      <td>-0.013694</td>\n",
              "    </tr>\n",
              "    <tr>\n",
              "      <th>2024-08-02</th>\n",
              "      <td>0.016618</td>\n",
              "      <td>-0.060321</td>\n",
              "      <td>-0.012096</td>\n",
              "      <td>-0.018382</td>\n",
              "    </tr>\n",
              "    <tr>\n",
              "      <th>2024-08-05</th>\n",
              "      <td>-0.004156</td>\n",
              "      <td>-0.120876</td>\n",
              "      <td>-0.004640</td>\n",
              "      <td>-0.029969</td>\n",
              "    </tr>\n",
              "    <tr>\n",
              "      <th>2024-08-06</th>\n",
              "      <td>-0.001013</td>\n",
              "      <td>0.037837</td>\n",
              "      <td>0.007959</td>\n",
              "      <td>0.010354</td>\n",
              "    </tr>\n",
              "    <tr>\n",
              "      <th>...</th>\n",
              "      <td>...</td>\n",
              "      <td>...</td>\n",
              "      <td>...</td>\n",
              "      <td>...</td>\n",
              "    </tr>\n",
              "    <tr>\n",
              "      <th>2025-01-27</th>\n",
              "      <td>-0.002515</td>\n",
              "      <td>-0.026062</td>\n",
              "      <td>0.019723</td>\n",
              "      <td>-0.014581</td>\n",
              "    </tr>\n",
              "    <tr>\n",
              "      <th>2025-01-28</th>\n",
              "      <td>-0.002792</td>\n",
              "      <td>-0.007398</td>\n",
              "      <td>-0.006455</td>\n",
              "      <td>0.009218</td>\n",
              "    </tr>\n",
              "    <tr>\n",
              "      <th>2025-01-29</th>\n",
              "      <td>-0.006194</td>\n",
              "      <td>0.023396</td>\n",
              "      <td>-0.005030</td>\n",
              "      <td>-0.004679</td>\n",
              "    </tr>\n",
              "    <tr>\n",
              "      <th>2025-01-30</th>\n",
              "      <td>0.000102</td>\n",
              "      <td>0.009952</td>\n",
              "      <td>0.028202</td>\n",
              "      <td>0.005275</td>\n",
              "    </tr>\n",
              "    <tr>\n",
              "      <th>2025-01-31</th>\n",
              "      <td>-0.005174</td>\n",
              "      <td>0.001116</td>\n",
              "      <td>0.002313</td>\n",
              "      <td>0.007269</td>\n",
              "    </tr>\n",
              "  </tbody>\n",
              "</table>\n",
              "<p>123 rows × 4 columns</p>\n",
              "</div>"
            ],
            "text/plain": [
              "               DOLAR       BTC      IBOV    S&P500\n",
              "Date                                              \n",
              "2024-07-31       NaN       NaN       NaN       NaN\n",
              "2024-08-01  0.008109  0.011425 -0.002013 -0.013694\n",
              "2024-08-02  0.016618 -0.060321 -0.012096 -0.018382\n",
              "2024-08-05 -0.004156 -0.120876 -0.004640 -0.029969\n",
              "2024-08-06 -0.001013  0.037837  0.007959  0.010354\n",
              "...              ...       ...       ...       ...\n",
              "2025-01-27 -0.002515 -0.026062  0.019723 -0.014581\n",
              "2025-01-28 -0.002792 -0.007398 -0.006455  0.009218\n",
              "2025-01-29 -0.006194  0.023396 -0.005030 -0.004679\n",
              "2025-01-30  0.000102  0.009952  0.028202  0.005275\n",
              "2025-01-31 -0.005174  0.001116  0.002313  0.007269\n",
              "\n",
              "[123 rows x 4 columns]"
            ]
          },
          "execution_count": 14,
          "metadata": {},
          "output_type": "execute_result"
        }
      ],
      "source": [
        "retornos_diarios = dados_mercado.pct_change()\n",
        "\n",
        "retornos_diarios"
      ]
    },
    {
      "cell_type": "code",
      "execution_count": 15,
      "metadata": {
        "id": "8P62qj8HpQtS"
      },
      "outputs": [],
      "source": [
        "retorno_dolar = retornos_diarios[\"DOLAR\"].iloc[-1]\n",
        "retorno_ibovespa = retornos_diarios[\"IBOV\"].iloc[-1]\n",
        "retorno_sp = retornos_diarios[\"S&P500\"].iloc[-1]\n",
        "retorno_btc = retornos_diarios[\"BTC\"].iloc[-1]\n",
        "\n",
        "retorno_dolar_pct = round(retorno_dolar * 100, 2)\n",
        "retorno_ibovespa_pct = round(retorno_ibovespa * 100, 2)\n",
        "retorno_sp_pct = round(retorno_sp * 100, 2)\n",
        "retorno_btc_pct = round(retorno_btc * 100, 2)\n"
      ]
    },
    {
      "cell_type": "code",
      "execution_count": 16,
      "metadata": {
        "colab": {
          "base_uri": "https://localhost:8080/"
        },
        "id": "XS4-IGVTqGAS",
        "outputId": "245d6651-bce9-4831-86c3-a1fea4c1e468"
      },
      "outputs": [
        {
          "name": "stdout",
          "output_type": "stream",
          "text": [
            "-0.52%\n",
            "0.23%\n",
            "0.73%\n",
            "0.11%\n"
          ]
        }
      ],
      "source": [
        "retorno_dolar_str = str(retorno_dolar_pct) + \"%\"\n",
        "retorno_ibovespa_str = str(retorno_ibovespa_pct) + \"%\"\n",
        "retorno_sp_str = str(retorno_sp_pct) + \"%\"\n",
        "retorno_btc_str = str(retorno_btc_pct) + \"%\"\n",
        "\n",
        "print(retorno_dolar_str)\n",
        "print(retorno_ibovespa_str)\n",
        "print(retorno_sp_str)\n",
        "print(retorno_btc_str)"
      ]
    },
    {
      "cell_type": "markdown",
      "metadata": {
        "id": "n3WiV0dz3Q0S"
      },
      "source": [
        "# 6 - Configurar e enviar o e-mail"
      ]
    },
    {
      "cell_type": "code",
      "execution_count": 17,
      "metadata": {
        "id": "zCbBgTVvrLyz"
      },
      "outputs": [],
      "source": [
        "import os\n",
        "import smtplib\n",
        "from email.message import EmailMessage"
      ]
    },
    {
      "cell_type": "code",
      "execution_count": 18,
      "metadata": {
        "id": "T26wUCZa3lWy"
      },
      "outputs": [],
      "source": [
        "email = \"seuemail@gmail.com\""
      ]
    },
    {
      "cell_type": "code",
      "execution_count": 19,
      "metadata": {
        "colab": {
          "base_uri": "https://localhost:8080/",
          "height": 35
        },
        "id": "ytM_UkwE30gC",
        "outputId": "08e88950-583c-4c2a-b7c6-485a2daefcc5"
      },
      "outputs": [
        {
          "data": {
            "text/plain": [
              "'uinbcmkalqqsujfr'"
            ]
          },
          "execution_count": 19,
          "metadata": {},
          "output_type": "execute_result"
        }
      ],
      "source": [
        "with open('senha.txt') as f:\n",
        "  senha = f.readlines()\n",
        "\n",
        "  f.close()\n",
        "\n",
        "senha_do_email = senha[0]\n",
        "\n",
        "senha_do_email"
      ]
    },
    {
      "cell_type": "code",
      "execution_count": 20,
      "metadata": {
        "id": "qTQoW7KW6jS-"
      },
      "outputs": [
        {
          "ename": "SMTPAuthenticationError",
          "evalue": "(535, b'5.7.8 Username and Password not accepted. For more information, go to\\n5.7.8  https://support.google.com/mail/?p=BadCredentials 98e67ed59e1d1-2f83bc97e71sm6806329a91.2 - gsmtp')",
          "output_type": "error",
          "traceback": [
            "\u001b[1;31m---------------------------------------------------------------------------\u001b[0m",
            "\u001b[1;31mSMTPAuthenticationError\u001b[0m                   Traceback (most recent call last)",
            "Cell \u001b[1;32mIn[20], line 43\u001b[0m\n\u001b[0;32m     39\u001b[0m msg\u001b[38;5;241m.\u001b[39madd_attachment(file_data, maintype\u001b[38;5;241m=\u001b[39m\u001b[38;5;124m'\u001b[39m\u001b[38;5;124mimage\u001b[39m\u001b[38;5;124m'\u001b[39m, subtype\u001b[38;5;241m=\u001b[39m\u001b[38;5;124m'\u001b[39m\u001b[38;5;124mpng\u001b[39m\u001b[38;5;124m'\u001b[39m, filename\u001b[38;5;241m=\u001b[39mfile_name)\n\u001b[0;32m     41\u001b[0m \u001b[38;5;28;01mwith\u001b[39;00m smtplib\u001b[38;5;241m.\u001b[39mSMTP_SSL(\u001b[38;5;124m'\u001b[39m\u001b[38;5;124msmtp.gmail.com\u001b[39m\u001b[38;5;124m'\u001b[39m, \u001b[38;5;241m465\u001b[39m) \u001b[38;5;28;01mas\u001b[39;00m smtp:\n\u001b[1;32m---> 43\u001b[0m     \u001b[43msmtp\u001b[49m\u001b[38;5;241;43m.\u001b[39;49m\u001b[43mlogin\u001b[49m\u001b[43m(\u001b[49m\u001b[43memail\u001b[49m\u001b[43m,\u001b[49m\u001b[43m \u001b[49m\u001b[43msenha_do_email\u001b[49m\u001b[43m)\u001b[49m\n\u001b[0;32m     44\u001b[0m     smtp\u001b[38;5;241m.\u001b[39msend_message(msg)\n",
            "File \u001b[1;32mc:\\Users\\Gabriel Lima\\AppData\\Local\\Programs\\Python\\Python312\\Lib\\smtplib.py:750\u001b[0m, in \u001b[0;36mSMTP.login\u001b[1;34m(self, user, password, initial_response_ok)\u001b[0m\n\u001b[0;32m    747\u001b[0m         last_exception \u001b[38;5;241m=\u001b[39m e\n\u001b[0;32m    749\u001b[0m \u001b[38;5;66;03m# We could not login successfully.  Return result of last attempt.\u001b[39;00m\n\u001b[1;32m--> 750\u001b[0m \u001b[38;5;28;01mraise\u001b[39;00m last_exception\n",
            "File \u001b[1;32mc:\\Users\\Gabriel Lima\\AppData\\Local\\Programs\\Python\\Python312\\Lib\\smtplib.py:739\u001b[0m, in \u001b[0;36mSMTP.login\u001b[1;34m(self, user, password, initial_response_ok)\u001b[0m\n\u001b[0;32m    737\u001b[0m method_name \u001b[38;5;241m=\u001b[39m \u001b[38;5;124m'\u001b[39m\u001b[38;5;124mauth_\u001b[39m\u001b[38;5;124m'\u001b[39m \u001b[38;5;241m+\u001b[39m authmethod\u001b[38;5;241m.\u001b[39mlower()\u001b[38;5;241m.\u001b[39mreplace(\u001b[38;5;124m'\u001b[39m\u001b[38;5;124m-\u001b[39m\u001b[38;5;124m'\u001b[39m, \u001b[38;5;124m'\u001b[39m\u001b[38;5;124m_\u001b[39m\u001b[38;5;124m'\u001b[39m)\n\u001b[0;32m    738\u001b[0m \u001b[38;5;28;01mtry\u001b[39;00m:\n\u001b[1;32m--> 739\u001b[0m     (code, resp) \u001b[38;5;241m=\u001b[39m \u001b[38;5;28;43mself\u001b[39;49m\u001b[38;5;241;43m.\u001b[39;49m\u001b[43mauth\u001b[49m\u001b[43m(\u001b[49m\n\u001b[0;32m    740\u001b[0m \u001b[43m        \u001b[49m\u001b[43mauthmethod\u001b[49m\u001b[43m,\u001b[49m\u001b[43m \u001b[49m\u001b[38;5;28;43mgetattr\u001b[39;49m\u001b[43m(\u001b[49m\u001b[38;5;28;43mself\u001b[39;49m\u001b[43m,\u001b[49m\u001b[43m \u001b[49m\u001b[43mmethod_name\u001b[49m\u001b[43m)\u001b[49m\u001b[43m,\u001b[49m\n\u001b[0;32m    741\u001b[0m \u001b[43m        \u001b[49m\u001b[43minitial_response_ok\u001b[49m\u001b[38;5;241;43m=\u001b[39;49m\u001b[43minitial_response_ok\u001b[49m\u001b[43m)\u001b[49m\n\u001b[0;32m    742\u001b[0m     \u001b[38;5;66;03m# 235 == 'Authentication successful'\u001b[39;00m\n\u001b[0;32m    743\u001b[0m     \u001b[38;5;66;03m# 503 == 'Error: already authenticated'\u001b[39;00m\n\u001b[0;32m    744\u001b[0m     \u001b[38;5;28;01mif\u001b[39;00m code \u001b[38;5;129;01min\u001b[39;00m (\u001b[38;5;241m235\u001b[39m, \u001b[38;5;241m503\u001b[39m):\n",
            "File \u001b[1;32mc:\\Users\\Gabriel Lima\\AppData\\Local\\Programs\\Python\\Python312\\Lib\\smtplib.py:662\u001b[0m, in \u001b[0;36mSMTP.auth\u001b[1;34m(self, mechanism, authobject, initial_response_ok)\u001b[0m\n\u001b[0;32m    660\u001b[0m \u001b[38;5;28;01mif\u001b[39;00m code \u001b[38;5;129;01min\u001b[39;00m (\u001b[38;5;241m235\u001b[39m, \u001b[38;5;241m503\u001b[39m):\n\u001b[0;32m    661\u001b[0m     \u001b[38;5;28;01mreturn\u001b[39;00m (code, resp)\n\u001b[1;32m--> 662\u001b[0m \u001b[38;5;28;01mraise\u001b[39;00m SMTPAuthenticationError(code, resp)\n",
            "\u001b[1;31mSMTPAuthenticationError\u001b[0m: (535, b'5.7.8 Username and Password not accepted. For more information, go to\\n5.7.8  https://support.google.com/mail/?p=BadCredentials 98e67ed59e1d1-2f83bc97e71sm6806329a91.2 - gsmtp')"
          ]
        }
      ],
      "source": [
        "msg = EmailMessage()\n",
        "msg['Subject'] = 'Enviando e-mail com Python'\n",
        "msg['From'] = 'seuemail@gmail.com'\n",
        "msg['To'] = 'seuemail@outlook.com'\n",
        "msg.set_content(f'''Prezado diretor, segue o relatório de mercado:\n",
        "\n",
        "* O Ibovespa teve o retorno de {retorno_ibovespa_str}.\n",
        "* O Dólar teve o retorno de {retorno_dolar_str}.\n",
        "* O S&P500 teve o retorno de {retorno_sp_str}.\n",
        "* O BTC teve o retorno de {retorno_btc_str}.\n",
        "\n",
        "Segue em anexo a peformance dos ativos nos últimos 6 meses.\n",
        "\n",
        "Att,\n",
        "Melhor estagiário do mundo\n",
        "\n",
        "\n",
        "'''\n",
        ")\n",
        "\n",
        "with open('ibovespa.png', 'rb') as f:\n",
        "    file_data = f.read()\n",
        "    file_name = f.name\n",
        "msg.add_attachment(file_data, maintype='image', subtype='png', filename=file_name)\n",
        "\n",
        "with open('dolar.png', 'rb') as f:\n",
        "    file_data = f.read()\n",
        "    file_name = f.name\n",
        "msg.add_attachment(file_data, maintype='image', subtype='png', filename=file_name)\n",
        "\n",
        "with open('sp500.png', 'rb') as f:\n",
        "    file_data = f.read()\n",
        "    file_name = f.name\n",
        "msg.add_attachment(file_data, maintype='image', subtype='png', filename=file_name)\n",
        "\n",
        "with open('btc.png', 'rb') as f:\n",
        "    file_data = f.read()\n",
        "    file_name = f.name\n",
        "msg.add_attachment(file_data, maintype='image', subtype='png', filename=file_name)\n",
        "\n",
        "with smtplib.SMTP_SSL('smtp.gmail.com', 465) as smtp:\n",
        "\n",
        "    smtp.login(email, senha_do_email)\n",
        "    smtp.send_message(msg)\n"
      ]
    },
    {
      "cell_type": "code",
      "execution_count": 19,
      "metadata": {
        "id": "7fiMeBHA9ezW"
      },
      "outputs": [],
      "source": []
    }
  ],
  "metadata": {
    "colab": {
      "provenance": []
    },
    "kernelspec": {
      "display_name": "Python 3",
      "name": "python3"
    },
    "language_info": {
      "codemirror_mode": {
        "name": "ipython",
        "version": 3
      },
      "file_extension": ".py",
      "mimetype": "text/x-python",
      "name": "python",
      "nbconvert_exporter": "python",
      "pygments_lexer": "ipython3",
      "version": "3.12.3"
    }
  },
  "nbformat": 4,
  "nbformat_minor": 0
}
